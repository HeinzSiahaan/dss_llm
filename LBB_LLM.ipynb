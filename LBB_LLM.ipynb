{
 "cells": [
  {
   "cell_type": "markdown",
   "id": "779596d7",
   "metadata": {},
   "source": [
    "**LBB : BUILDING LARGE LANGUAGE MODELS FOR BUSINESS APPLICATIONS**\n",
    "- Last Updated: July 2023\n",
    "\n",
    "Developed by Heinz Metrosan Donradt S (heinzmdsiahaan@gmail.com)"
   ]
  },
  {
   "cell_type": "markdown",
   "id": "04d1d43f",
   "metadata": {},
   "source": [
    "## Background\n",
    "\n",
    "Untuk mendapatkan sertifikat workshop yang telah diikuti dan meningkatkan kemampuan Bapak/Ibu dalam mengimplementasikan ilmu yang diperoleh dalam kelas tersebut, silakan Bapak/Ibu membuat sistem Question & Answer terhadap data tertentu menggunakan Large Language Model (LLM). Bapak/Ibu bebas memilih data yang diinginkan atau kami juga menyediakan referensi data yang dilampirkan pada posting ini. Bapak/Ibu dapat mengumpulkan hasil latihan berdasarkan tahapan yang telah dipelajari dalam kelas."
   ]
  },
  {
   "cell_type": "markdown",
   "id": "e866ab15",
   "metadata": {},
   "source": [
    "## Environment Set-up\n",
    "### Setting API key and `.env`"
   ]
  },
  {
   "cell_type": "code",
   "execution_count": 1,
   "id": "29c60612",
   "metadata": {},
   "outputs": [],
   "source": [
    "from langchain import OpenAI\n",
    "from langchain import HuggingFaceHub, LLMChain\n",
    "from langchain.prompts import PromptTemplate"
   ]
  },
  {
   "cell_type": "code",
   "execution_count": 2,
   "id": "07499d8e",
   "metadata": {},
   "outputs": [
    {
     "data": {
      "text/plain": [
       "True"
      ]
     },
     "execution_count": 2,
     "metadata": {},
     "output_type": "execute_result"
    }
   ],
   "source": [
    "from dotenv import load_dotenv\n",
    "\n",
    "load_dotenv()"
   ]
  },
  {
   "cell_type": "markdown",
   "id": "a366fb87",
   "metadata": {},
   "source": [
    "### Using HuggingFace"
   ]
  },
  {
   "cell_type": "code",
   "execution_count": 3,
   "id": "95a0d322",
   "metadata": {},
   "outputs": [],
   "source": [
    "# Import the llm model from huggingface\n",
    "hub_llm = HuggingFaceHub(\n",
    "    repo_id='gpt2',\n",
    "    model_kwargs={'temperature': 0, 'max_length': 50}\n",
    ")"
   ]
  },
  {
   "cell_type": "code",
   "execution_count": 4,
   "id": "0b0ee948",
   "metadata": {},
   "outputs": [],
   "source": [
    "prompt = PromptTemplate(\n",
    "    input_variables=[\"question\"],\n",
    "    template=\"\"\"Question: {question}\"\"\"\n",
    ")\n",
    "\n",
    "hub_chain = LLMChain(prompt=prompt, llm=hub_llm, verbose=True)"
   ]
  },
  {
   "cell_type": "code",
   "execution_count": 5,
   "id": "117c0d10",
   "metadata": {},
   "outputs": [
    {
     "name": "stdout",
     "output_type": "stream",
     "text": [
      "\n",
      "\n",
      "\u001b[1m> Entering new  chain...\u001b[0m\n",
      "Prompt after formatting:\n",
      "\u001b[32;1m\u001b[1;3mQuestion: Who is best footballer on Earth?\u001b[0m\n",
      "\n",
      "\u001b[1m> Finished chain.\u001b[0m\n"
     ]
    },
    {
     "data": {
      "text/plain": [
       "'\\n\\nA: I think that the best footballer on Earth is the one who is the best at football. I think that the best footballer on Earth is the one who is the best at football.\\n'"
      ]
     },
     "execution_count": 5,
     "metadata": {},
     "output_type": "execute_result"
    }
   ],
   "source": [
    "hub_chain.run(\"Who is best footballer on Earth?\")"
   ]
  },
  {
   "cell_type": "markdown",
   "id": "ef55d2a2",
   "metadata": {},
   "source": [
    "### Using OpenAI + tripadvisor csv"
   ]
  },
  {
   "cell_type": "code",
   "execution_count": 6,
   "id": "9c972e16",
   "metadata": {},
   "outputs": [],
   "source": [
    "filepath = \"data_input/tripadvisor_hotel_reviews.csv\""
   ]
  },
  {
   "cell_type": "code",
   "execution_count": 7,
   "id": "eeb828b1",
   "metadata": {},
   "outputs": [],
   "source": [
    "llm = OpenAI(temperature=0) # parameter temperature"
   ]
  },
  {
   "cell_type": "code",
   "execution_count": 8,
   "id": "b650e14e",
   "metadata": {},
   "outputs": [],
   "source": [
    "from langchain.agents import create_csv_agent\n",
    "agent = create_csv_agent(llm, filepath, verbose=True)"
   ]
  },
  {
   "cell_type": "code",
   "execution_count": 9,
   "id": "e26499d6",
   "metadata": {},
   "outputs": [
    {
     "name": "stdout",
     "output_type": "stream",
     "text": [
      "\n",
      "\n",
      "\u001b[1m> Entering new  chain...\u001b[0m\n",
      "\u001b[32;1m\u001b[1;3mThought: Saya harus mencari dua review yang paling positif\n",
      "Action: python_repl_ast\n",
      "Action Input: df[df['Rating'] == 5]['Review'].head(2)\u001b[0m\n",
      "Observation: \u001b[36;1m\u001b[1;3m3    unique, great stay, wonderful time hotel monac...\n",
      "4    great stay great stay, went seahawk game aweso...\n",
      "Name: Review, dtype: object\u001b[0m\n",
      "Thought:\u001b[32;1m\u001b[1;3m Saya sekarang tahu jawaban akhir\n",
      "Final Answer: Review terbaik adalah \"unique, great stay, wonderful time hotel monaco\" dan \"great stay great stay, went seahawk game awesome\".\u001b[0m\n",
      "\n",
      "\u001b[1m> Finished chain.\u001b[0m\n"
     ]
    },
    {
     "data": {
      "text/plain": [
       "'Review terbaik adalah \"unique, great stay, wonderful time hotel monaco\" dan \"great stay great stay, went seahawk game awesome\".'"
      ]
     },
     "execution_count": 9,
     "metadata": {},
     "output_type": "execute_result"
    }
   ],
   "source": [
    "agent.run(\"berikan dua contoh review terbaik\")"
   ]
  }
 ],
 "metadata": {
  "kernelspec": {
   "display_name": "dss_llm",
   "language": "python",
   "name": "dss_llm"
  },
  "language_info": {
   "codemirror_mode": {
    "name": "ipython",
    "version": 3
   },
   "file_extension": ".py",
   "mimetype": "text/x-python",
   "name": "python",
   "nbconvert_exporter": "python",
   "pygments_lexer": "ipython3",
   "version": "3.10.12"
  }
 },
 "nbformat": 4,
 "nbformat_minor": 5
}
